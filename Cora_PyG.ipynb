{
  "nbformat": 4,
  "nbformat_minor": 0,
  "metadata": {
    "accelerator": "GPU",
    "colab": {
      "name": "Cora-PyG.ipynb",
      "provenance": [],
      "collapsed_sections": [
        "jP8GFJcE38PY",
        "EnhYNP9r30xL"
      ]
    },
    "kernelspec": {
      "display_name": "Python 3",
      "name": "python3"
    }
  },
  "cells": [
    {
      "cell_type": "markdown",
      "metadata": {
        "id": "egQRCM1GjSZa"
      },
      "source": [
        "#  GCNs to classify nodes in one big graph."
      ]
    },
    {
      "cell_type": "markdown",
      "metadata": {
        "id": "zq4VeTeH4axz"
      },
      "source": [
        "### Libraries and Configs"
      ]
    },
    {
      "cell_type": "code",
      "metadata": {
        "colab": {
          "base_uri": "https://localhost:8080/"
        },
        "id": "BGkd-oLRrKvw",
        "outputId": "b5510091-8506-46e6-8f1e-e0d924b12411"
      },
      "source": [
        "!python -c \"import torch; print(torch.version.cuda)\""
      ],
      "execution_count": null,
      "outputs": [
        {
          "output_type": "stream",
          "text": [
            "10.1\n"
          ],
          "name": "stdout"
        }
      ]
    },
    {
      "cell_type": "code",
      "metadata": {
        "colab": {
          "base_uri": "https://localhost:8080/"
        },
        "id": "ZmUGd_ehrj5m",
        "outputId": "3511e5ca-893e-46d8-8bf2-319cffb6acc2"
      },
      "source": [
        "!python -c \"import torch; print(torch.__version__)\""
      ],
      "execution_count": null,
      "outputs": [
        {
          "output_type": "stream",
          "text": [
            "1.7.0+cu101\n"
          ],
          "name": "stdout"
        }
      ]
    },
    {
      "cell_type": "code",
      "metadata": {
        "colab": {
          "base_uri": "https://localhost:8080/"
        },
        "id": "iItcm039I1EX",
        "outputId": "968ae649-534b-4067-ea19-f29940f764f9"
      },
      "source": [
        "!nvidia-smi"
      ],
      "execution_count": null,
      "outputs": [
        {
          "output_type": "stream",
          "text": [
            "NVIDIA-SMI has failed because it couldn't communicate with the NVIDIA driver. Make sure that the latest NVIDIA driver is installed and running.\n",
            "\n"
          ],
          "name": "stdout"
        }
      ]
    },
    {
      "cell_type": "code",
      "metadata": {
        "colab": {
          "base_uri": "https://localhost:8080/"
        },
        "id": "U43nngx1mzRV",
        "outputId": "600ec2b8-adb7-488b-e32f-42270a17502c"
      },
      "source": [
        "!pip install torch-scatter -f https://pytorch-geometric.com/whl/torch-1.7.0+cu101.html"
      ],
      "execution_count": null,
      "outputs": [
        {
          "output_type": "stream",
          "text": [
            "Looking in links: https://pytorch-geometric.com/whl/torch-1.7.0+cu101.html\n",
            "Requirement already satisfied: torch-scatter in /usr/local/lib/python3.6/dist-packages (2.0.5)\n"
          ],
          "name": "stdout"
        }
      ]
    },
    {
      "cell_type": "code",
      "metadata": {
        "colab": {
          "base_uri": "https://localhost:8080/"
        },
        "id": "A7iKvPxuniMj",
        "outputId": "b7afee3e-bbdc-40c7-f5cb-a4eae210f11b"
      },
      "source": [
        "pip install torch-sparse -f https://pytorch-geometric.com/whl/torch-1.7.0+cu101.html"
      ],
      "execution_count": null,
      "outputs": [
        {
          "output_type": "stream",
          "text": [
            "Looking in links: https://pytorch-geometric.com/whl/torch-1.7.0+cu101.html\n",
            "Requirement already satisfied: torch-sparse in /usr/local/lib/python3.6/dist-packages (0.6.8)\n",
            "Requirement already satisfied: scipy in /usr/local/lib/python3.6/dist-packages (from torch-sparse) (1.4.1)\n",
            "Requirement already satisfied: numpy>=1.13.3 in /usr/local/lib/python3.6/dist-packages (from scipy->torch-sparse) (1.19.4)\n"
          ],
          "name": "stdout"
        }
      ]
    },
    {
      "cell_type": "code",
      "metadata": {
        "id": "yIqDiiaWmPdF"
      },
      "source": [
        "!pip install torch-cluster -f https://pytorch-geometric.com/whl/torch-1.7.0+cu101.html"
      ],
      "execution_count": null,
      "outputs": []
    },
    {
      "cell_type": "code",
      "metadata": {
        "id": "ER-NKY50mXLw"
      },
      "source": [
        "!pip install torch-spline-conv -f https://pytorch-geometric.com/whl/torch-1.7.0+cu101.html"
      ],
      "execution_count": null,
      "outputs": []
    },
    {
      "cell_type": "code",
      "metadata": {
        "id": "n7kkrXmJlMLT"
      },
      "source": [
        "!pip install torch-geometric"
      ],
      "execution_count": null,
      "outputs": []
    },
    {
      "cell_type": "code",
      "metadata": {
        "id": "qP5kLBoGsnUg"
      },
      "source": [
        "!pip install torch-scatter==latest+cu101 torch-sparse==latest+cu101 -f https://pytorch-geometric.com/whl/torch-1.7.0.html"
      ],
      "execution_count": null,
      "outputs": []
    },
    {
      "cell_type": "code",
      "metadata": {
        "id": "qut-rU92kuGi"
      },
      "source": [
        "import torch\r\n",
        "from torch_geometric.data import Data"
      ],
      "execution_count": null,
      "outputs": []
    },
    {
      "cell_type": "markdown",
      "metadata": {
        "id": "3g16-ZHD4XHW"
      },
      "source": [
        "### Dataset"
      ]
    },
    {
      "cell_type": "markdown",
      "metadata": {
        "id": "GZXTscrW-bOP"
      },
      "source": [
        "About the Cora dataset:\r\n",
        "\r\n",
        "- it's one large graph (unlike us, small and more than one graphs)\r\n",
        "- which consists of 2708 scientific publications \r\n",
        "- classified into one of seven classes. \r\n",
        "- Each publication in the dataset is described by a 0/1-valued word vector \r\n",
        "  indicating the absence/presence of the corresponding word from the dictionary. \r\n",
        "- The dictionary consists of 1433 unique words (features).\r\n",
        "\r\n",
        "<br>\r\n",
        "\r\n",
        "Nodes = Publications (Papers, Books ...)\r\n",
        "\r\n",
        "Edges = Citations\r\n",
        "\r\n",
        "Node Features = word vectors\r\n",
        "\r\n",
        "7 Labels = Pubilcation e.g. Case_Based, Genetic_Algorithms, Neural_Networks, \r\n",
        "Probabilistic_Methods, Reinforcement_Learning, Rule_Learning, Theory.\r\n",
        "\r\n",
        "<div>\r\n",
        "<img src=\"https://drive.google.com/uc?export=view&id=1-ahz42h98us4awm2CMPAv6s8ZCZfg5Wk\" width= \"600\" />\r\n",
        "</div>\r\n",
        "Some of the nodes are labeled and some not and must be predicted:\r\n",
        "\r\n",
        "<div>\r\n",
        "<img src=\"https://drive.google.com/uc?export=view&id=1PZ0XJTlFRfyaxfi-koys41nro9kWfc39\" width= \"600\" />\r\n",
        "</div>\r\n",
        "\r\n",
        "\r\n",
        "The features look like this:\r\n",
        "<div>\r\n",
        "<img src=\"https://drive.google.com/uc?export=view&id=1aOrucqS0zVE6PdrRnExqZ3wrw0nqD2FO\" width= \"600\" />\r\n",
        "</div>\r\n",
        "\r\n"
      ]
    },
    {
      "cell_type": "code",
      "metadata": {
        "id": "DChGHKwb9XB9"
      },
      "source": [
        "from torch_geometric.datasets import Planetoid\r\n",
        "from torch_geometric.transforms import NormalizeFeatures\r\n",
        "\r\n",
        "# Transform is not necessary\r\n",
        "dataset = Planetoid(root='data/Planetoid', name='Cora', transform=NormalizeFeatures())"
      ],
      "execution_count": null,
      "outputs": []
    },
    {
      "cell_type": "code",
      "metadata": {
        "colab": {
          "base_uri": "https://localhost:8080/"
        },
        "id": "xvrtv6Z9_Fgy",
        "outputId": "b89d9caf-2deb-4348-b8d3-ea7ed29f6dfd"
      },
      "source": [
        "# Get some basic info about the dataset\r\n",
        "print(f'Number of graphs: {len(dataset)}')\r\n",
        "print(f'Number of features: {dataset.num_features}')\r\n",
        "print(f'Number of classes: {dataset.num_classes}')\r\n",
        "print(50*'=')\r\n",
        "\r\n",
        "# There is only one graph in the dataset, use it as new data object\r\n",
        "data = dataset[0]  \r\n",
        "\r\n",
        "# Gather some statistics about the graph.\r\n",
        "print(data)\r\n",
        "print(f'Number of nodes: {data.num_nodes}')\r\n",
        "print(f'Number of edges: {data.num_edges}')\r\n",
        "print(f'Number of training nodes: {data.train_mask.sum()}')\r\n",
        "print(f'Training node label rate: {int(data.train_mask.sum()) / data.num_nodes:.2f}')\r\n",
        "print(f'Is undirected: {data.is_undirected()}')\r\n",
        "print(f'Number of validating nodes: {data.val_mask.sum()}')\r\n",
        "print(f'Number of testing nodes: {data.test_mask.sum()}')"
      ],
      "execution_count": null,
      "outputs": [
        {
          "output_type": "stream",
          "text": [
            "Number of graphs: 1\n",
            "Number of features: 1433\n",
            "Number of classes: 7\n",
            "==================================================\n",
            "Data(edge_index=[2, 10556], test_mask=[2708], train_mask=[2708], val_mask=[2708], x=[2708, 1433], y=[2708])\n",
            "Number of nodes: 2708\n",
            "Number of edges: 10556\n",
            "Number of training nodes: 140\n",
            "Training node label rate: 0.05\n",
            "Is undirected: True\n",
            "Number of validating nodes: 500\n",
            "Number of testing nodes: 1000\n"
          ],
          "name": "stdout"
        }
      ]
    },
    {
      "cell_type": "code",
      "metadata": {
        "colab": {
          "base_uri": "https://localhost:8080/"
        },
        "id": "Rc_QbVQN_K65",
        "outputId": "36f6befd-67b9-431a-87a8-816467701e0f"
      },
      "source": [
        "# labels\r\n",
        "data.y"
      ],
      "execution_count": null,
      "outputs": [
        {
          "output_type": "execute_result",
          "data": {
            "text/plain": [
              "tensor([3, 4, 4,  ..., 3, 3, 3])"
            ]
          },
          "metadata": {
            "tags": []
          },
          "execution_count": 98
        }
      ]
    },
    {
      "cell_type": "code",
      "metadata": {
        "colab": {
          "base_uri": "https://localhost:8080/"
        },
        "id": "gXuZNRe_Hu8R",
        "outputId": "171c3046-f837-448d-d54f-a24eaefe5ec1"
      },
      "source": [
        "# edge connections\r\n",
        "data.edge_index.t()"
      ],
      "execution_count": null,
      "outputs": [
        {
          "output_type": "execute_result",
          "data": {
            "text/plain": [
              "tensor([[   0,  633],\n",
              "        [   0, 1862],\n",
              "        [   0, 2582],\n",
              "        ...,\n",
              "        [2707,  598],\n",
              "        [2707, 1473],\n",
              "        [2707, 2706]])"
            ]
          },
          "metadata": {
            "tags": []
          },
          "execution_count": 284
        }
      ]
    },
    {
      "cell_type": "markdown",
      "metadata": {
        "id": "ZhsYKnKl4F_F"
      },
      "source": [
        "### Layers"
      ]
    },
    {
      "cell_type": "code",
      "metadata": {
        "id": "LTtD8Rm0KZ8m"
      },
      "source": [
        "import torch\r\n",
        "import torch.nn.functional as F\r\n",
        "from torch.nn import Linear\r\n",
        "from torch_geometric.nn import GCNConv\r\n",
        "\r\n",
        "torch.manual_seed(42) # the seed ensures that the numbers are reproducible\r\n",
        "\r\n",
        "class Net3(torch.nn.Module):\r\n",
        "    def __init__(self):\r\n",
        "        super(Net3, self).__init__()\r\n",
        "\r\n",
        "        # Initialize layers\r\n",
        "        self.conv1 = GCNConv(dataset.num_node_features, 64)\r\n",
        "        self.conv2 = GCNConv(64, 32)\r\n",
        "        self.conv3 = GCNConv(32, 16)\r\n",
        "        self.out = Linear(16, dataset.num_classes)\r\n",
        "\r\n",
        "    def forward(self, x, edge_index): # x -> node features , \r\n",
        "                                      # edge_index -> edge connectivity,\r\n",
        "                                      #               adjacency info\r\n",
        "\r\n",
        "        # Layer 1 \r\n",
        "        x = self.conv1(x, edge_index)  \r\n",
        "        x = F.relu(x)\r\n",
        "        x = F.dropout(x, p=0.4, training=self.training)\r\n",
        "\r\n",
        "        # Layer 2\r\n",
        "        x = self.conv2(x, edge_index)\r\n",
        "        x = F.relu(x)\r\n",
        "        x = F.dropout(x, p=0.4, training=self.training)\r\n",
        "        \r\n",
        "        # Layer 3\r\n",
        "        x = self.conv3(x, edge_index)\r\n",
        "        x = F.relu(x)\r\n",
        "        x = F.dropout(x, p=0.4, training=self.training)\r\n",
        "        \r\n",
        "        # Linear Layer\r\n",
        "        x = self.out(x)\r\n",
        "        x = F.softmax(x, dim=1)\r\n",
        "        return  x\r\n",
        "\r\n",
        "\r\n",
        "class Net2(torch.nn.Module):\r\n",
        "    def __init__(self):\r\n",
        "        super(Net2, self).__init__()\r\n",
        "\r\n",
        "        # Initialize layers\r\n",
        "        self.conv1 = GCNConv(dataset.num_node_features, 32)\r\n",
        "        self.conv2 = GCNConv(32, 16)\r\n",
        "        self.out = Linear(16, dataset.num_classes)\r\n",
        "\r\n",
        "    def forward(self, x, edge_index):\r\n",
        "\r\n",
        "        # Layer 1\r\n",
        "        x = self.conv1(x, edge_index)\r\n",
        "        x = F.relu(x)\r\n",
        "        x = F.dropout(x, p=0.4, training=self.training)\r\n",
        "\r\n",
        "        # Layer 2\r\n",
        "        x = self.conv2(x, edge_index)\r\n",
        "        x = F.relu(x)\r\n",
        "        x = F.dropout(x, p=0.4, training=self.training)\r\n",
        "       \r\n",
        "        # Linear Layer\r\n",
        "        x = self.out(x)\r\n",
        "        x = F.softmax(x, dim=1)\r\n",
        "        return  x\r\n",
        "\r\n",
        "\r\n",
        "class Net1(torch.nn.Module):\r\n",
        "    def __init__(self):\r\n",
        "        super(Net1, self).__init__()\r\n",
        "\r\n",
        "        # Initialize layers\r\n",
        "        self.conv1 = GCNConv(dataset.num_node_features, 16)\r\n",
        "        self.out = Linear(16, dataset.num_classes)\r\n",
        "\r\n",
        "    def forward(self, x, edge_index):\r\n",
        "\r\n",
        "        # Layer 1\r\n",
        "        x = self.conv1(x, edge_index)\r\n",
        "        x = F.relu(x)\r\n",
        "        x = F.dropout(x, p=0.4, training=self.training)\r\n",
        "\r\n",
        "        # Linear Layer\r\n",
        "        x = self.out(x)\r\n",
        "        x = F.softmax(x, dim=1)\r\n",
        "        return  x\r\n"
      ],
      "execution_count": null,
      "outputs": []
    },
    {
      "cell_type": "markdown",
      "metadata": {
        "id": "A_iKqmajMgq2"
      },
      "source": [
        "Observations:\r\n",
        "- Dropout is only applied in the training step, but not for predictions\r\n",
        "- We have 3,2,1 Message Passing Layers (3 models) and one Linear output layer\r\n",
        "- We use the softmax function for the classification problem\r\n",
        "- The output of the model are 7 probabilities, one for each class"
      ]
    },
    {
      "cell_type": "code",
      "metadata": {
        "id": "nuZhp16aMX2t"
      },
      "source": [
        "device = torch.device('cuda' if torch.cuda.is_available() else 'cpu')\r\n",
        "data = dataset[0].to(device)\r\n",
        "\r\n",
        "model1 = Net1().to(device)\r\n",
        "optimizer1 = torch.optim.Adam(model1.parameters(), lr=0.01, weight_decay=5e-4)\r\n",
        "\r\n",
        "\r\n",
        "model2 = Net2().to(device)\r\n",
        "optimizer2 = torch.optim.Adam(model2.parameters(), lr=0.01, weight_decay=5e-4)\r\n",
        "\r\n",
        "\r\n",
        "model3 = Net3().to(device)\r\n",
        "optimizer3 = torch.optim.Adam(model3.parameters(), lr=0.01, weight_decay=5e-4)"
      ],
      "execution_count": null,
      "outputs": []
    },
    {
      "cell_type": "code",
      "metadata": {
        "colab": {
          "base_uri": "https://localhost:8080/"
        },
        "id": "SGggWpmXM0ur",
        "outputId": "d8570f28-2a9e-4025-f635-7daf0a60919a"
      },
      "source": [
        "print(model1)\r\n",
        "print(model2)\r\n",
        "print(model3)"
      ],
      "execution_count": null,
      "outputs": [
        {
          "output_type": "stream",
          "text": [
            "Net1(\n",
            "  (conv1): GCNConv(1433, 16)\n",
            "  (out): Linear(in_features=16, out_features=7, bias=True)\n",
            ")\n",
            "Net2(\n",
            "  (conv1): GCNConv(1433, 32)\n",
            "  (conv2): GCNConv(32, 16)\n",
            "  (out): Linear(in_features=16, out_features=7, bias=True)\n",
            ")\n",
            "Net3(\n",
            "  (conv1): GCNConv(1433, 64)\n",
            "  (conv2): GCNConv(64, 32)\n",
            "  (conv3): GCNConv(32, 16)\n",
            "  (out): Linear(in_features=16, out_features=7, bias=True)\n",
            ")\n"
          ],
          "name": "stdout"
        }
      ]
    },
    {
      "cell_type": "code",
      "metadata": {
        "id": "cYLvPd-KNIji"
      },
      "source": [
        "# Loss Function\r\n",
        "criterion = torch.nn.CrossEntropyLoss()"
      ],
      "execution_count": null,
      "outputs": []
    },
    {
      "cell_type": "markdown",
      "metadata": {
        "id": "jP8GFJcE38PY"
      },
      "source": [
        "### Training"
      ]
    },
    {
      "cell_type": "code",
      "metadata": {
        "colab": {
          "base_uri": "https://localhost:8080/"
        },
        "id": "dTZAz0QdNjMj",
        "outputId": "deb5d013-2526-4e49-e5ca-9671f8b39aa6"
      },
      "source": [
        "loss_1 =[]\r\n",
        "for epoch in range(0,701):\r\n",
        "      model1.train()\r\n",
        "      optimizer1.zero_grad() \r\n",
        "      # Use all data as input, because all nodes have node features\r\n",
        "      out = model1(data.x, data.edge_index)  \r\n",
        "      # Only use nodes with labels available for loss calculation --> mask\r\n",
        "      loss = criterion(out[data.train_mask], data.y[data.train_mask])  \r\n",
        "      loss.backward() \r\n",
        "      optimizer1.step()\r\n",
        "      loss_1.append(loss)\r\n",
        "      if epoch % 100 == 0:\r\n",
        "        print(f'Model: 1, Epoch: {epoch:03d}, Loss: {loss:.4f}')\r\n",
        "\r\n",
        "loss_2 =[]\r\n",
        "for epoch in range(0,701):\r\n",
        "    model2.train()\r\n",
        "    optimizer2.zero_grad() \r\n",
        "    # Use all data as input, because all nodes have node features\r\n",
        "    out = model2(data.x, data.edge_index)  \r\n",
        "    # Only use nodes with labels available for loss calculation --> mask\r\n",
        "    loss = criterion(out[data.train_mask], data.y[data.train_mask])  \r\n",
        "    loss.backward() \r\n",
        "    optimizer2.step()\r\n",
        "    loss_2.append(loss)\r\n",
        "    if epoch % 100 == 0:\r\n",
        "      print(f'Model: 2, Epoch: {epoch:03d}, Loss: {loss:.4f}')\r\n",
        "\r\n",
        "loss_3 =[]\r\n",
        "for epoch in range(0,701):\r\n",
        "    model3.train()\r\n",
        "    optimizer3.zero_grad() \r\n",
        "    # Use all data as input, because all nodes have node features\r\n",
        "    out = model3(data.x, data.edge_index)  \r\n",
        "    # Only use nodes with labels available for loss calculation --> mask\r\n",
        "    loss = criterion(out[data.train_mask], data.y[data.train_mask])  \r\n",
        "    loss.backward() \r\n",
        "    optimizer3.step()\r\n",
        "    loss_3.append(loss)\r\n",
        "    if epoch % 100 == 0:\r\n",
        "      print(f'Model: 3, Epoch: {epoch:03d}, Loss: {loss:.4f}')"
      ],
      "execution_count": null,
      "outputs": [
        {
          "output_type": "stream",
          "text": [
            "Model: 1, Epoch: 000, Loss: 1.9460\n",
            "Model: 1, Epoch: 100, Loss: 1.6943\n",
            "Model: 1, Epoch: 200, Loss: 1.5772\n",
            "Model: 1, Epoch: 300, Loss: 1.5515\n",
            "Model: 1, Epoch: 400, Loss: 1.5529\n",
            "Model: 1, Epoch: 500, Loss: 1.5446\n",
            "Model: 1, Epoch: 600, Loss: 1.5477\n",
            "Model: 1, Epoch: 700, Loss: 1.5158\n",
            "Model: 2, Epoch: 000, Loss: 1.9461\n",
            "Model: 2, Epoch: 100, Loss: 1.7628\n",
            "Model: 2, Epoch: 200, Loss: 1.4908\n",
            "Model: 2, Epoch: 300, Loss: 1.3277\n",
            "Model: 2, Epoch: 400, Loss: 1.2804\n",
            "Model: 2, Epoch: 500, Loss: 1.3026\n",
            "Model: 2, Epoch: 600, Loss: 1.2542\n",
            "Model: 2, Epoch: 700, Loss: 1.2936\n",
            "Model: 3, Epoch: 000, Loss: 1.9461\n",
            "Model: 3, Epoch: 100, Loss: 1.8288\n",
            "Model: 3, Epoch: 200, Loss: 1.6623\n",
            "Model: 3, Epoch: 300, Loss: 1.4296\n",
            "Model: 3, Epoch: 400, Loss: 1.3036\n",
            "Model: 3, Epoch: 500, Loss: 1.3209\n",
            "Model: 3, Epoch: 600, Loss: 1.2449\n",
            "Model: 3, Epoch: 700, Loss: 1.2369\n"
          ],
          "name": "stdout"
        }
      ]
    },
    {
      "cell_type": "code",
      "metadata": {
        "colab": {
          "base_uri": "https://localhost:8080/",
          "height": 339
        },
        "id": "QRibazVTSk_z",
        "outputId": "ebd4de90-5933-4f9d-8b39-99a8835a29f6"
      },
      "source": [
        "import seaborn as sns\r\n",
        "losses_float = [float(loss.cpu().detach().numpy()) for loss in loss_1] \r\n",
        "loss_indices = [i for i,l in enumerate(losses_float)] \r\n",
        "plt = sns.lineplot(loss_indices, losses_float)\r\n",
        "plt"
      ],
      "execution_count": null,
      "outputs": [
        {
          "output_type": "stream",
          "text": [
            "/usr/local/lib/python3.6/dist-packages/seaborn/_decorators.py:43: FutureWarning: Pass the following variables as keyword args: x, y. From version 0.12, the only valid positional argument will be `data`, and passing other arguments without an explicit keyword will result in an error or misinterpretation.\n",
            "  FutureWarning\n"
          ],
          "name": "stderr"
        },
        {
          "output_type": "execute_result",
          "data": {
            "text/plain": [
              "<matplotlib.axes._subplots.AxesSubplot at 0x7fd6a6312e10>"
            ]
          },
          "metadata": {
            "tags": []
          },
          "execution_count": 275
        },
        {
          "output_type": "display_data",
          "data": {
            "image/png": "[encoded data removed]",
            "text/plain": [
              "<Figure size 432x288 with 1 Axes>"
            ]
          },
          "metadata": {
            "tags": [],
            "needs_background": "light"
          }
        }
      ]
    },
    {
      "cell_type": "code",
      "metadata": {
        "colab": {
          "base_uri": "https://localhost:8080/",
          "height": 339
        },
        "id": "FJDLO4BaUYWj",
        "outputId": "e022ccf5-35a9-449e-f6bc-b1513fed68b3"
      },
      "source": [
        "import seaborn as sns\r\n",
        "losses_float = [float(loss.cpu().detach().numpy()) for loss in loss_2] \r\n",
        "loss_indices = [i for i,l in enumerate(losses_float)] \r\n",
        "plt = sns.lineplot(loss_indices, losses_float)\r\n",
        "plt"
      ],
      "execution_count": null,
      "outputs": [
        {
          "output_type": "stream",
          "text": [
            "/usr/local/lib/python3.6/dist-packages/seaborn/_decorators.py:43: FutureWarning: Pass the following variables as keyword args: x, y. From version 0.12, the only valid positional argument will be `data`, and passing other arguments without an explicit keyword will result in an error or misinterpretation.\n",
            "  FutureWarning\n"
          ],
          "name": "stderr"
        },
        {
          "output_type": "execute_result",
          "data": {
            "text/plain": [
              "<matplotlib.axes._subplots.AxesSubplot at 0x7fd6a629b588>"
            ]
          },
          "metadata": {
            "tags": []
          },
          "execution_count": 276
        },
        {
          "output_type": "display_data",
          "data": {
            "image/png": "[encoded data removed]",
            "text/plain": [
              "<Figure size 432x288 with 1 Axes>"
            ]
          },
          "metadata": {
            "tags": [],
            "needs_background": "light"
          }
        }
      ]
    },
    {
      "cell_type": "code",
      "metadata": {
        "colab": {
          "base_uri": "https://localhost:8080/",
          "height": 339
        },
        "id": "4N8qgRmuUc3x",
        "outputId": "0a6c2f14-87ff-4a3c-f0b6-1a1ea32a0718"
      },
      "source": [
        "import seaborn as sns\r\n",
        "losses_float = [float(loss.cpu().detach().numpy()) for loss in loss_3] \r\n",
        "loss_indices = [i for i,l in enumerate(losses_float)] \r\n",
        "plt = sns.lineplot(loss_indices, losses_float)\r\n",
        "plt"
      ],
      "execution_count": null,
      "outputs": [
        {
          "output_type": "stream",
          "text": [
            "/usr/local/lib/python3.6/dist-packages/seaborn/_decorators.py:43: FutureWarning: Pass the following variables as keyword args: x, y. From version 0.12, the only valid positional argument will be `data`, and passing other arguments without an explicit keyword will result in an error or misinterpretation.\n",
            "  FutureWarning\n"
          ],
          "name": "stderr"
        },
        {
          "output_type": "execute_result",
          "data": {
            "text/plain": [
              "<matplotlib.axes._subplots.AxesSubplot at 0x7fd6a6241b38>"
            ]
          },
          "metadata": {
            "tags": []
          },
          "execution_count": 277
        },
        {
          "output_type": "display_data",
          "data": {
            "image/png": "[encoded data removed]",
            "text/plain": [
              "<Figure size 432x288 with 1 Axes>"
            ]
          },
          "metadata": {
            "tags": [],
            "needs_background": "light"
          }
        }
      ]
    },
    {
      "cell_type": "markdown",
      "metadata": {
        "id": "EnhYNP9r30xL"
      },
      "source": [
        "### Testing"
      ]
    },
    {
      "cell_type": "code",
      "metadata": {
        "id": "QwGfBe7KUeFm"
      },
      "source": [
        "model1.eval()\r\n",
        "out1 = model1(data.x, data.edge_index)\r\n",
        "# Use the class with highest probability.\r\n",
        "pred1 = out1.argmax(dim=1)  \r\n",
        "# Check against ground-truth labels.\r\n",
        "test_correct1 = pred1[data.test_mask] == data.y[data.test_mask]  \r\n",
        "# Derive ratio of correct predictions.\r\n",
        "test_acc1 = int(test_correct1.sum()) / int(data.test_mask.sum())  "
      ],
      "execution_count": null,
      "outputs": []
    },
    {
      "cell_type": "code",
      "metadata": {
        "id": "Y1ODqBP6WSs9"
      },
      "source": [
        "model2.eval()\r\n",
        "out2 = model2(data.x, data.edge_index)\r\n",
        "# Use the class with highest probability.\r\n",
        "pred2 = out2.argmax(dim=1)  \r\n",
        "# Check against ground-truth labels.\r\n",
        "test_correct2 = pred2[data.test_mask] == data.y[data.test_mask]  \r\n",
        "# Derive ratio of correct predictions.\r\n",
        "test_acc2 = int(test_correct2.sum()) / int(data.test_mask.sum())  "
      ],
      "execution_count": null,
      "outputs": []
    },
    {
      "cell_type": "code",
      "metadata": {
        "id": "rmDNWbR7Wmts"
      },
      "source": [
        "model3.eval()\r\n",
        "out3 = model3(data.x, data.edge_index)\r\n",
        "# Use the class with highest probability.\r\n",
        "pred3 = out3.argmax(dim=1)  \r\n",
        "# Check against ground-truth labels.\r\n",
        "test_correct3 = pred3[data.test_mask] == data.y[data.test_mask]  \r\n",
        "# Derive ratio of correct predictions.\r\n",
        "test_acc3 = int(test_correct3.sum()) / int(data.test_mask.sum())  "
      ],
      "execution_count": null,
      "outputs": []
    },
    {
      "cell_type": "code",
      "metadata": {
        "colab": {
          "base_uri": "https://localhost:8080/"
        },
        "id": "yHlCGYnjWqQd",
        "outputId": "c82a2be4-86d1-437f-c81c-171d49a0acbe"
      },
      "source": [
        "print(f'Model 1, Test Accuracy: {test_acc1:.4f}')\r\n",
        "print(f'Model 2, Test Accuracy: {test_acc2:.4f}')\r\n",
        "print(f'Model 3, Test Accuracy: {test_acc3:.4f}')"
      ],
      "execution_count": null,
      "outputs": [
        {
          "output_type": "stream",
          "text": [
            "Model 1, Test Accuracy: 0.5830\n",
            "Model 2, Test Accuracy: 0.7770\n",
            "Model 3, Test Accuracy: 0.7280\n"
          ],
          "name": "stdout"
        }
      ]
    },
    {
      "cell_type": "markdown",
      "metadata": {
        "id": "mOSf3SanmraQ"
      },
      "source": [
        "## Improving the model\r\n",
        "- Cross-Validation\r\n",
        "- Hyperparameter Optimization\r\n",
        "- Different layer types GCN, GAT ([here](https://pytorch-geometric.readthedocs.io/en/latest/modules/nn.html))\r\n",
        "- Including edge features ([here](https://wiki.tum.de/display/dlma/Exploiting+Edge+Features+in+Graph+Neural+Networks))  \r\n",
        "- *The* best performance is currently [at around 0.9](https://paperswithcode.com/sota/node-classification-on-cora)"
      ]
    }
  ]
}