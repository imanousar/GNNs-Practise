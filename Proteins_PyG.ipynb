{
  "nbformat": 4,
  "nbformat_minor": 0,
  "metadata": {
    "colab": {
      "name": "Proteins-PyG.ipynb",
      "provenance": [],
      "collapsed_sections": []
    },
    "kernelspec": {
      "name": "python3",
      "display_name": "Python 3"
    },
    "accelerator": "GPU"
  },
  "cells": [
    {
      "cell_type": "markdown",
      "metadata": {
        "id": "rrEwoTMBsBfM"
      },
      "source": [
        "#  GCNs to classify a graph as a whole.\r\n",
        "\r\n",
        "Graph classification refers to the problem of classifiying entire graphs (in contrast to nodes), given a **dataset of graphs**, based on some structural graph properties.\r\n",
        "\r\n",
        "<div>\r\n",
        "<img src=\"https://drive.google.com/uc?export=view&id=1Yb0xw4Jy7Ytpm91ONMpXFgxNNvH0pw6f\" width = 550px height=350px />\r\n",
        "</div>\r\n"
      ]
    },
    {
      "cell_type": "code",
      "metadata": {
        "colab": {
          "base_uri": "https://localhost:8080/"
        },
        "id": "EI-HQdisrfKn",
        "outputId": "c1291b1f-838b-48ae-c69c-bbdd93d050ce"
      },
      "source": [
        "# Install required packages.\r\n",
        "!python -c \"import torch; print(torch.version.cuda)\"!pip install -q torch-sparse -f https://pytorch-geometric.com/whl/torch-1.7.0+cu101.html\r\n",
        "!python -c \"import torch; print(torch.__version__)\""
      ],
      "execution_count": 40,
      "outputs": [
        {
          "output_type": "stream",
          "text": [
            "  File \"<string>\", line 1\n",
            "    import torch; print(torch.version.cuda)!pip\n",
            "                                           ^\n",
            "SyntaxError: invalid syntax\n",
            "1.7.0+cu101\n"
          ],
          "name": "stdout"
        }
      ]
    },
    {
      "cell_type": "code",
      "metadata": {
        "colab": {
          "base_uri": "https://localhost:8080/"
        },
        "id": "aSOtbqarr2GF",
        "outputId": "9527c2d9-a1d9-40e7-e374-daabdf1076dd"
      },
      "source": [
        "!nvidia-smi"
      ],
      "execution_count": 41,
      "outputs": [
        {
          "output_type": "stream",
          "text": [
            "NVIDIA-SMI has failed because it couldn't communicate with the NVIDIA driver. Make sure that the latest NVIDIA driver is installed and running.\n",
            "\n"
          ],
          "name": "stdout"
        }
      ]
    },
    {
      "cell_type": "code",
      "metadata": {
        "colab": {
          "base_uri": "https://localhost:8080/"
        },
        "id": "Uk1CgqUk3r2F",
        "outputId": "67669ac4-271d-4f5f-a8a3-5705c392c173"
      },
      "source": [
        "!pip install torch-scatter -f https://pytorch-geometric.com/whl/torch-1.7.0+cu101.html"
      ],
      "execution_count": 42,
      "outputs": [
        {
          "output_type": "stream",
          "text": [
            "Looking in links: https://pytorch-geometric.com/whl/torch-1.7.0+cu101.html\n",
            "Requirement already satisfied: torch-scatter in /usr/local/lib/python3.6/dist-packages (2.0.5)\n"
          ],
          "name": "stdout"
        }
      ]
    },
    {
      "cell_type": "code",
      "metadata": {
        "colab": {
          "base_uri": "https://localhost:8080/"
        },
        "id": "5wAZGcpU3sPO",
        "outputId": "dc15fc9f-9794-420c-d2fa-47f53699fa2b"
      },
      "source": [
        "pip install torch-sparse -f https://pytorch-geometric.com/whl/torch-1.7.0+cu101.html"
      ],
      "execution_count": 43,
      "outputs": [
        {
          "output_type": "stream",
          "text": [
            "Looking in links: https://pytorch-geometric.com/whl/torch-1.7.0+cu101.html\n",
            "Requirement already satisfied: torch-sparse in /usr/local/lib/python3.6/dist-packages (0.6.8)\n",
            "Requirement already satisfied: scipy in /usr/local/lib/python3.6/dist-packages (from torch-sparse) (1.4.1)\n",
            "Requirement already satisfied: numpy>=1.13.3 in /usr/local/lib/python3.6/dist-packages (from scipy->torch-sparse) (1.19.4)\n"
          ],
          "name": "stdout"
        }
      ]
    },
    {
      "cell_type": "code",
      "metadata": {
        "colab": {
          "base_uri": "https://localhost:8080/"
        },
        "id": "ft8kRoNi3v6d",
        "outputId": "47ff621e-0ac3-4192-ff98-11a35c17b704"
      },
      "source": [
        "!pip install torch-cluster -f https://pytorch-geometric.com/whl/torch-1.7.0+cu101.html"
      ],
      "execution_count": 44,
      "outputs": [
        {
          "output_type": "stream",
          "text": [
            "Looking in links: https://pytorch-geometric.com/whl/torch-1.7.0+cu101.html\n",
            "Collecting torch-cluster\n",
            "\u001b[?25l  Downloading https://pytorch-geometric.com/whl/torch-1.7.0%2Bcu101/torch_cluster-1.5.8-cp36-cp36m-linux_x86_64.whl (21.5MB)\n",
            "\u001b[K     |████████████████████████████████| 21.5MB 1.5MB/s \n",
            "\u001b[?25hInstalling collected packages: torch-cluster\n",
            "Successfully installed torch-cluster-1.5.8\n"
          ],
          "name": "stdout"
        }
      ]
    },
    {
      "cell_type": "code",
      "metadata": {
        "colab": {
          "base_uri": "https://localhost:8080/"
        },
        "id": "Mk2JyAUR3wCU",
        "outputId": "023692d4-5c7f-4c8a-eb1c-6927ce1497ec"
      },
      "source": [
        "!pip install torch-spline-conv -f https://pytorch-geometric.com/whl/torch-1.7.0+cu101.html"
      ],
      "execution_count": 45,
      "outputs": [
        {
          "output_type": "stream",
          "text": [
            "Looking in links: https://pytorch-geometric.com/whl/torch-1.7.0+cu101.html\n",
            "Collecting torch-spline-conv\n",
            "\u001b[?25l  Downloading https://pytorch-geometric.com/whl/torch-1.7.0%2Bcu101/torch_spline_conv-1.2.0-cp36-cp36m-linux_x86_64.whl (6.4MB)\n",
            "\u001b[K     |████████████████████████████████| 6.4MB 6.8MB/s \n",
            "\u001b[?25hInstalling collected packages: torch-spline-conv\n",
            "Successfully installed torch-spline-conv-1.2.0\n"
          ],
          "name": "stdout"
        }
      ]
    },
    {
      "cell_type": "code",
      "metadata": {
        "colab": {
          "base_uri": "https://localhost:8080/"
        },
        "id": "hzxfE6Wj3wH-",
        "outputId": "8da22bf3-f487-4101-aca2-ed2fd668a696"
      },
      "source": [
        "!pip install torch-geometric"
      ],
      "execution_count": 46,
      "outputs": [
        {
          "output_type": "stream",
          "text": [
            "Requirement already satisfied: torch-geometric in /usr/local/lib/python3.6/dist-packages (1.6.3)\n",
            "Requirement already satisfied: scikit-learn in /usr/local/lib/python3.6/dist-packages (from torch-geometric) (0.22.2.post1)\n",
            "Requirement already satisfied: h5py in /usr/local/lib/python3.6/dist-packages (from torch-geometric) (2.10.0)\n",
            "Requirement already satisfied: rdflib in /usr/local/lib/python3.6/dist-packages (from torch-geometric) (5.0.0)\n",
            "Requirement already satisfied: python-louvain in /usr/local/lib/python3.6/dist-packages (from torch-geometric) (0.14)\n",
            "Requirement already satisfied: networkx in /usr/local/lib/python3.6/dist-packages (from torch-geometric) (2.5)\n",
            "Requirement already satisfied: tqdm in /usr/local/lib/python3.6/dist-packages (from torch-geometric) (4.41.1)\n",
            "Requirement already satisfied: requests in /usr/local/lib/python3.6/dist-packages (from torch-geometric) (2.23.0)\n",
            "Requirement already satisfied: ase in /usr/local/lib/python3.6/dist-packages (from torch-geometric) (3.20.1)\n",
            "Requirement already satisfied: torch in /usr/local/lib/python3.6/dist-packages (from torch-geometric) (1.7.0+cu101)\n",
            "Requirement already satisfied: scipy in /usr/local/lib/python3.6/dist-packages (from torch-geometric) (1.4.1)\n",
            "Requirement already satisfied: pandas in /usr/local/lib/python3.6/dist-packages (from torch-geometric) (1.1.5)\n",
            "Requirement already satisfied: googledrivedownloader in /usr/local/lib/python3.6/dist-packages (from torch-geometric) (0.4)\n",
            "Requirement already satisfied: jinja2 in /usr/local/lib/python3.6/dist-packages (from torch-geometric) (2.11.2)\n",
            "Requirement already satisfied: numpy in /usr/local/lib/python3.6/dist-packages (from torch-geometric) (1.19.4)\n",
            "Requirement already satisfied: numba in /usr/local/lib/python3.6/dist-packages (from torch-geometric) (0.48.0)\n",
            "Requirement already satisfied: joblib>=0.11 in /usr/local/lib/python3.6/dist-packages (from scikit-learn->torch-geometric) (1.0.0)\n",
            "Requirement already satisfied: six in /usr/local/lib/python3.6/dist-packages (from h5py->torch-geometric) (1.15.0)\n",
            "Requirement already satisfied: pyparsing in /usr/local/lib/python3.6/dist-packages (from rdflib->torch-geometric) (2.4.7)\n",
            "Requirement already satisfied: isodate in /usr/local/lib/python3.6/dist-packages (from rdflib->torch-geometric) (0.6.0)\n",
            "Requirement already satisfied: decorator>=4.3.0 in /usr/local/lib/python3.6/dist-packages (from networkx->torch-geometric) (4.4.2)\n",
            "Requirement already satisfied: chardet<4,>=3.0.2 in /usr/local/lib/python3.6/dist-packages (from requests->torch-geometric) (3.0.4)\n",
            "Requirement already satisfied: urllib3!=1.25.0,!=1.25.1,<1.26,>=1.21.1 in /usr/local/lib/python3.6/dist-packages (from requests->torch-geometric) (1.24.3)\n",
            "Requirement already satisfied: certifi>=2017.4.17 in /usr/local/lib/python3.6/dist-packages (from requests->torch-geometric) (2020.12.5)\n",
            "Requirement already satisfied: idna<3,>=2.5 in /usr/local/lib/python3.6/dist-packages (from requests->torch-geometric) (2.10)\n",
            "Requirement already satisfied: matplotlib>=2.0.0 in /usr/local/lib/python3.6/dist-packages (from ase->torch-geometric) (3.2.2)\n",
            "Requirement already satisfied: dataclasses in /usr/local/lib/python3.6/dist-packages (from torch->torch-geometric) (0.8)\n",
            "Requirement already satisfied: typing-extensions in /usr/local/lib/python3.6/dist-packages (from torch->torch-geometric) (3.7.4.3)\n",
            "Requirement already satisfied: future in /usr/local/lib/python3.6/dist-packages (from torch->torch-geometric) (0.16.0)\n",
            "Requirement already satisfied: python-dateutil>=2.7.3 in /usr/local/lib/python3.6/dist-packages (from pandas->torch-geometric) (2.8.1)\n",
            "Requirement already satisfied: pytz>=2017.2 in /usr/local/lib/python3.6/dist-packages (from pandas->torch-geometric) (2018.9)\n",
            "Requirement already satisfied: MarkupSafe>=0.23 in /usr/local/lib/python3.6/dist-packages (from jinja2->torch-geometric) (1.1.1)\n",
            "Requirement already satisfied: setuptools in /usr/local/lib/python3.6/dist-packages (from numba->torch-geometric) (50.3.2)\n",
            "Requirement already satisfied: llvmlite<0.32.0,>=0.31.0dev0 in /usr/local/lib/python3.6/dist-packages (from numba->torch-geometric) (0.31.0)\n",
            "Requirement already satisfied: kiwisolver>=1.0.1 in /usr/local/lib/python3.6/dist-packages (from matplotlib>=2.0.0->ase->torch-geometric) (1.3.1)\n",
            "Requirement already satisfied: cycler>=0.10 in /usr/local/lib/python3.6/dist-packages (from matplotlib>=2.0.0->ase->torch-geometric) (0.10.0)\n"
          ],
          "name": "stdout"
        }
      ]
    },
    {
      "cell_type": "code",
      "metadata": {
        "colab": {
          "base_uri": "https://localhost:8080/",
          "height": 415
        },
        "id": "erftreIk3wM6",
        "outputId": "ad1aa123-4a76-46b3-b7b4-bc7b7fd67409"
      },
      "source": [
        "!pip install torch-scatter==latest+cu101 torch-sparse==latest+cu101 -f https://pytorch-geometric.com/whl/torch-1.7.0.html"
      ],
      "execution_count": 47,
      "outputs": [
        {
          "output_type": "stream",
          "text": [
            "Looking in links: https://pytorch-geometric.com/whl/torch-1.7.0.html\n",
            "Collecting torch-scatter==latest+cu101\n",
            "\u001b[?25l  Downloading https://pytorch-geometric.com/whl/torch-1.7.0/torch_scatter-latest%2Bcu101-cp36-cp36m-linux_x86_64.whl (11.9MB)\n",
            "\u001b[K     |████████████████████████████████| 11.9MB 8.5MB/s \n",
            "\u001b[?25hCollecting torch-sparse==latest+cu101\n",
            "\u001b[?25l  Downloading https://pytorch-geometric.com/whl/torch-1.7.0/torch_sparse-latest%2Bcu101-cp36-cp36m-linux_x86_64.whl (24.3MB)\n",
            "\u001b[K     |████████████████████████████████| 24.3MB 109kB/s \n",
            "\u001b[?25hRequirement already satisfied: scipy in /usr/local/lib/python3.6/dist-packages (from torch-sparse==latest+cu101) (1.4.1)\n",
            "Requirement already satisfied: numpy>=1.13.3 in /usr/local/lib/python3.6/dist-packages (from scipy->torch-sparse==latest+cu101) (1.19.4)\n",
            "Installing collected packages: torch-scatter, torch-sparse\n",
            "  Found existing installation: torch-scatter 2.0.5\n",
            "    Uninstalling torch-scatter-2.0.5:\n",
            "      Successfully uninstalled torch-scatter-2.0.5\n",
            "  Found existing installation: torch-sparse 0.6.8\n",
            "    Uninstalling torch-sparse-0.6.8:\n",
            "      Successfully uninstalled torch-sparse-0.6.8\n",
            "Successfully installed torch-scatter-2.0.5 torch-sparse-0.6.8\n"
          ],
          "name": "stdout"
        },
        {
          "output_type": "display_data",
          "data": {
            "application/vnd.colab-display-data+json": {
              "pip_warning": {
                "packages": [
                  "torch_scatter",
                  "torch_sparse"
                ]
              }
            }
          },
          "metadata": {
            "tags": []
          }
        }
      ]
    },
    {
      "cell_type": "markdown",
      "metadata": {
        "id": "Lr6oEat1tQ3j"
      },
      "source": [
        "### Dataset"
      ]
    },
    {
      "cell_type": "code",
      "metadata": {
        "id": "D-rBeMl1r2dJ"
      },
      "source": [
        "import torch\r\n",
        "from torch_geometric.data import Data\r\n",
        "from torch_geometric.datasets import TUDataset  "
      ],
      "execution_count": 48,
      "outputs": []
    },
    {
      "cell_type": "code",
      "metadata": {
        "colab": {
          "base_uri": "https://localhost:8080/"
        },
        "id": "ctI68_zmtQER",
        "outputId": "007c7aea-38ab-460f-8b20-bdf5e0afcd84"
      },
      "source": [
        "dataset = TUDataset(root='data/TUDataset', name='MUTAG')"
      ],
      "execution_count": 49,
      "outputs": [
        {
          "output_type": "stream",
          "text": [
            "Downloading https://www.chrsmrrs.com/graphkerneldatasets/MUTAG.zip\n",
            "Extracting data/TUDataset/MUTAG/MUTAG.zip\n",
            "Processing...\n",
            "Done!\n"
          ],
          "name": "stdout"
        }
      ]
    },
    {
      "cell_type": "code",
      "metadata": {
        "colab": {
          "base_uri": "https://localhost:8080/"
        },
        "id": "8IhkwqLhr6IL",
        "outputId": "4496d11a-bd6d-46f1-9c1b-4b381acf1991"
      },
      "source": [
        "print()\r\n",
        "print(f'Dataset: {dataset}:')\r\n",
        "print('====================')\r\n",
        "print(f'Number of graphs: {len(dataset)}')\r\n",
        "print(f'Number of features: {dataset.num_features}')\r\n",
        "print(f'Number of classes: {dataset.num_classes}')\r\n",
        "\r\n",
        "data = dataset[0]  # Get the first graph object.\r\n",
        "\r\n",
        "print()\r\n",
        "print(data)\r\n",
        "print('=============================================================')\r\n",
        "\r\n",
        "# Gather some statistics about the first graph.\r\n",
        "print(f'Number of nodes: {data.num_nodes}')\r\n",
        "print(f'Number of edges: {data.num_edges}')\r\n",
        "print(f'Average node degree: {data.num_edges / data.num_nodes:.2f}')\r\n",
        "print(f'Contains isolated nodes: {data.contains_isolated_nodes()}')\r\n",
        "print(f'Contains self-loops: {data.contains_self_loops()}')\r\n",
        "print(f'Is undirected: {data.is_undirected()}')"
      ],
      "execution_count": 50,
      "outputs": [
        {
          "output_type": "stream",
          "text": [
            "\n",
            "Dataset: MUTAG(188):\n",
            "====================\n",
            "Number of graphs: 188\n",
            "Number of features: 7\n",
            "Number of classes: 2\n",
            "\n",
            "Data(edge_attr=[38, 4], edge_index=[2, 38], x=[17, 7], y=[1])\n",
            "=============================================================\n",
            "Number of nodes: 17\n",
            "Number of edges: 38\n",
            "Average node degree: 2.24\n",
            "Contains isolated nodes: False\n",
            "Contains self-loops: False\n",
            "Is undirected: True\n"
          ],
          "name": "stdout"
        }
      ]
    },
    {
      "cell_type": "markdown",
      "metadata": {
        "id": "vz8XmTgCuP2J"
      },
      "source": [
        "From the [TUM Datasets](https://chrsmrrs.github.io/datasets/docs/datasets/) we \r\n",
        "import the AIDS dataset. This dataset provides **2000 different graphs**, and the task is to classify each graph into **one of two classes**.\r\n",
        "\r\n",
        "By inspecting the first graph object of the dataset, we can see that it comes with **38 nodes (with 38-dimensional feature vectors)** and **106 edges** (leading to an average node degree of 2.26).\r\n",
        "\r\n",
        "It also comes with exactly **one graph label** (`y=[1]`).\r\n",
        "<div>\r\n",
        "<img src=\"https://drive.google.com/uc?expot=view&id=1-TOhLzyT5qUJ_fmYaQ7UxvfogavOqGbK\" width=500px height=250px/>\r\n",
        "<div/>"
      ]
    },
    {
      "cell_type": "code",
      "metadata": {
        "id": "MqFqzy2ntzfG"
      },
      "source": [
        "torch.manual_seed(12345)    # reproducability \r\n",
        "dataset = dataset.shuffle() # suffling\r\n",
        "\r\n",
        "train_dataset = dataset[:int(len(dataset)*0.8)]  # 80% training\r\n",
        "test_dataset = dataset[int(len(dataset)*0.8):]   # 20% testing"
      ],
      "execution_count": 51,
      "outputs": []
    },
    {
      "cell_type": "code",
      "metadata": {
        "colab": {
          "base_uri": "https://localhost:8080/"
        },
        "id": "sQe_uywpvJbu",
        "outputId": "f149562b-e3fc-4187-b99b-135972d4d6b5"
      },
      "source": [
        "print(f'Number of training graphs: {len(train_dataset)}')\r\n",
        "print(f'Number of test graphs: {len(test_dataset)}')"
      ],
      "execution_count": 52,
      "outputs": [
        {
          "output_type": "stream",
          "text": [
            "Number of training graphs: 150\n",
            "Number of test graphs: 38\n"
          ],
          "name": "stdout"
        }
      ]
    },
    {
      "cell_type": "markdown",
      "metadata": {
        "id": "V09p3hMCwmrV"
      },
      "source": [
        "### Mini-batching of graphs\r\n"
      ]
    },
    {
      "cell_type": "markdown",
      "metadata": {
        "id": "ArxzBtgjwjKi"
      },
      "source": [
        "\r\n",
        "Since graphs in graph classification datasets are usually small, a good idea is to **batch the graphs** before inputting them into a Graph Neural Network to guarantee full GPU utilization.\r\n",
        "In the image or language domain, this procedure is typically achieved by **rescaling** or **padding** each example into a set of equally-sized shapes, and examples are then grouped in an additional dimension.\r\n",
        "The length of this dimension is then equal to the number of examples grouped in a mini-batch and is typically referred to as the `batch_size`.\r\n",
        "\r\n",
        "However, for GNNs the two approaches described above are either not feasible or may result in a lot of unnecessary memory consumption.\r\n",
        "Therefore, PyTorch Geometric opts for another approach to achieve parallelization across a number of examples. Here, adjacency matrices are stacked in a diagonal fashion (creating a giant graph that holds multiple isolated subgraphs), and node and target features are simply concatenated in the node dimension:\r\n",
        "\r\n",
        "\r\n",
        "<div>\r\n",
        "<img src=\"https://drive.google.com/uc?export=view&id=13IcgkLCZ6FleauksMAiiVXlQFSqhGcP4\" />\r\n",
        "</div>\r\n",
        "\r\n",
        "\r\n",
        "This procedure has some crucial advantages over other batching procedures:\r\n",
        "\r\n",
        "1. GNN operators that rely on a message passing scheme do not need to be modified since messages are not exchanged between two nodes that belong to different graphs.\r\n",
        "\r\n",
        "2. There is no computational or memory overhead since adjacency matrices are saved in a sparse fashion holding only non-zero entries, *i.e.*, the edges.\r\n",
        "\r\n",
        "PyTorch Geometric automatically takes care of **batching multiple graphs into a single giant graph** with the help of the [`torch_geometric.data.DataLoader`](https://pytorch-geometric.readthedocs.io/en/latest/modules/data.html#torch_geometric.data.DataLoader) class:\r\n"
      ]
    },
    {
      "cell_type": "code",
      "metadata": {
        "colab": {
          "base_uri": "https://localhost:8080/"
        },
        "id": "h3pJcWyyvX83",
        "outputId": "cb4004c7-31b8-400e-9053-880f7372e9a4"
      },
      "source": [
        "from torch_geometric.data import DataLoader\r\n",
        "\r\n",
        "train_loader = DataLoader(train_dataset, batch_size=30, shuffle=True)\r\n",
        "test_loader = DataLoader(test_dataset, batch_size=19, shuffle=False)\r\n",
        "\r\n",
        "for step, data in enumerate(train_loader):\r\n",
        "    print(f'Step {step + 1}:')\r\n",
        "    print('=======')\r\n",
        "    print(f'Number of graphs in the current batch: {data.num_graphs}')\r\n",
        "    print(data)\r\n",
        "    print()"
      ],
      "execution_count": 61,
      "outputs": [
        {
          "output_type": "stream",
          "text": [
            "Step 1:\n",
            "=======\n",
            "Number of graphs in the current batch: 30\n",
            "Batch(batch=[507], edge_attr=[1108, 4], edge_index=[2, 1108], x=[507, 7], y=[30])\n",
            "\n",
            "Step 2:\n",
            "=======\n",
            "Number of graphs in the current batch: 30\n",
            "Batch(batch=[532], edge_attr=[1172, 4], edge_index=[2, 1172], x=[532, 7], y=[30])\n",
            "\n",
            "Step 3:\n",
            "=======\n",
            "Number of graphs in the current batch: 30\n",
            "Batch(batch=[549], edge_attr=[1220, 4], edge_index=[2, 1220], x=[549, 7], y=[30])\n",
            "\n",
            "Step 4:\n",
            "=======\n",
            "Number of graphs in the current batch: 30\n",
            "Batch(batch=[572], edge_attr=[1272, 4], edge_index=[2, 1272], x=[572, 7], y=[30])\n",
            "\n",
            "Step 5:\n",
            "=======\n",
            "Number of graphs in the current batch: 30\n",
            "Batch(batch=[554], edge_attr=[1222, 4], edge_index=[2, 1222], x=[554, 7], y=[30])\n",
            "\n"
          ],
          "name": "stdout"
        }
      ]
    },
    {
      "cell_type": "markdown",
      "metadata": {
        "id": "PGBkc8Oex1kB"
      },
      "source": [
        "Furthermore, each `Batch` object is equipped with a **`batch` vector**, which maps each node to its respective graph in the batch:\r\n",
        "\r\n",
        "$$\r\n",
        "\\textrm{batch} = [ 0, \\ldots, 0, 1, \\ldots, 1, 2, \\ldots ]\r\n",
        "$$"
      ]
    },
    {
      "cell_type": "markdown",
      "metadata": {
        "id": "AAROu1FUzQ9V"
      },
      "source": [
        "### Training a Graph Convolution Neural Network (GCNConv)\r\n"
      ]
    },
    {
      "cell_type": "markdown",
      "metadata": {
        "id": "pdJKhkgpzPTG"
      },
      "source": [
        "\r\n",
        "Training a GCN for graph classification usually follows a simple recipe:\r\n",
        "\r\n",
        "1. Embed each node by performing multiple rounds of message passing\r\n",
        "2. Aggregate node embeddings into a unified graph embedding (**readout layer**)\r\n",
        "3. Train a final classifier on the graph embedding\r\n",
        "\r\n",
        "There exists multiple **readout layers** in literature, but the most common one is to simply take the average of node embeddings:\r\n",
        "\r\n",
        "$$\r\n",
        "\\mathbf{x}_{\\mathcal{G}} = \\frac{1}{|\\mathcal{V}|} \\sum_{v \\in \\mathcal{V}} \\mathcal{x}^{(L)}_v\r\n",
        "$$\r\n",
        "\r\n",
        "PyTorch Geometric provides this functionality via [`torch_geometric.nn.global_mean_pool`](https://pytorch-geometric.readthedocs.io/en/latest/modules/nn.html#torch_geometric.nn.glob.global_mean_pool), which takes in the node embeddings of all nodes in the mini-batch and the assignment vector `batch` to compute a graph embedding of size `[batch_size, hidden_channels]` for each graph in the batch."
      ]
    },
    {
      "cell_type": "code",
      "metadata": {
        "id": "obV7DAE7xiox"
      },
      "source": [
        "from torch.nn import Linear\r\n",
        "import torch.nn.functional as F\r\n",
        "from torch_geometric.nn import GCNConv\r\n",
        "from torch_geometric.nn import global_mean_pool\r\n",
        "\r\n",
        "p_dropout =  0.2 #dropout \r\n",
        "class GCN(torch.nn.Module):\r\n",
        "    def __init__(self, hidden_channels):\r\n",
        "        super(GCN, self).__init__()\r\n",
        "        torch.manual_seed(12345)\r\n",
        "        self.conv1 = GCNConv(dataset.num_node_features, hidden_channels)\r\n",
        "        self.conv2 = GCNConv(hidden_channels, hidden_channels)\r\n",
        "        self.conv3 = GCNConv(hidden_channels, hidden_channels)\r\n",
        "        self.lin = Linear(hidden_channels, dataset.num_classes)\r\n",
        "\r\n",
        "    def forward(self, x, edge_index, batch):\r\n",
        "        # 1. Obtain node embeddings \r\n",
        "        x = self.conv1(x, edge_index)\r\n",
        "        x = x.relu()\r\n",
        "        x = F.dropout(x, p=p_dropout, training=self.training)\r\n",
        "\r\n",
        "        x = self.conv2(x, edge_index)\r\n",
        "        x = x.relu()\r\n",
        "        x = F.dropout(x, p=p_dropout, training=self.training)\r\n",
        "\r\n",
        "        x = self.conv3(x, edge_index)\r\n",
        "\r\n",
        "        # 2. Readout layer\r\n",
        "        x = global_mean_pool(x, batch)  # [batch_size, hidden_channels]\r\n",
        "\r\n",
        "        # 3. Apply a final classifier\r\n",
        "        x = F.dropout(x, p=p_dropout, training=self.training)\r\n",
        "        x = self.lin(x)\r\n",
        "        x = F.softmax(x, dim=1)\r\n",
        "\r\n",
        "        return x\r\n"
      ],
      "execution_count": 62,
      "outputs": []
    },
    {
      "cell_type": "markdown",
      "metadata": {
        "id": "A0kIbBf92Jrd"
      },
      "source": [
        "[global_mean_pooling](https://pytorch-geometric.readthedocs.io/en/latest/modules/nn.html#torch_geometric.nn.glob.global_mean_pool): \r\n",
        "\r\n",
        "Returns batch-wise graph-level-outputs by averaging node features across the node \r\n",
        "<br>\r\n",
        "dimension, so that for a single graph $G_i$  its output is \r\n",
        "computed by: \r\n",
        "<br>\r\n",
        "$ r_i =\\frac{1}{N_i} \\sum_{n=1}^{N_i} x_n $\r\n",
        "\r\n",
        "\r\n",
        "\r\n",
        "> PARAMETERS\r\n",
        "\r\n",
        "- x (Tensor) - Node feature matrix **X**$\\in \\mathbb{R} ^{(N_1+..+N_B)xF}$\r\n",
        "- batch ( long tensor) - Batch vector **b** $\\in {0,.., B-1}^N$, which assigns each node to a specific example (graph).\r\n",
        "- size (int, optional) - Batch size B. Automatically calculated if not given.\r\n",
        "\r\n",
        "<div>\r\n",
        "<img src=\"https://drive.google.com/uc?export=view&id=1AjxGAurUAwOdgQD0oHud9Q3JFzdzYfHP\" />\r\n",
        "</div>"
      ]
    },
    {
      "cell_type": "code",
      "metadata": {
        "colab": {
          "base_uri": "https://localhost:8080/"
        },
        "id": "d3ZN00hpzldp",
        "outputId": "627b435d-c64b-481d-fd18-75603d330cae"
      },
      "source": [
        "device = torch.device('cuda' if torch.cuda.is_available() else 'cpu')\r\n",
        "\r\n",
        "model = GCN(hidden_channels=64).to(device)\r\n",
        "print(model)"
      ],
      "execution_count": 63,
      "outputs": [
        {
          "output_type": "stream",
          "text": [
            "GCN(\n",
            "  (conv1): GCNConv(7, 64)\n",
            "  (conv2): GCNConv(64, 64)\n",
            "  (conv3): GCNConv(64, 64)\n",
            "  (lin): Linear(in_features=64, out_features=2, bias=True)\n",
            ")\n"
          ],
          "name": "stdout"
        }
      ]
    },
    {
      "cell_type": "code",
      "metadata": {
        "id": "Dkj0QCj_2u0N"
      },
      "source": [
        "optimizer = torch.optim.Adam(model.parameters(), lr=0.01)\r\n",
        "criterion = torch.nn.CrossEntropyLoss()"
      ],
      "execution_count": 64,
      "outputs": []
    },
    {
      "cell_type": "code",
      "metadata": {
        "colab": {
          "base_uri": "https://localhost:8080/"
        },
        "id": "XVDNk3eDLkiT",
        "outputId": "68225f30-73ac-48de-e1aa-d6169df783af"
      },
      "source": [
        "\r\n",
        "losses = []\r\n",
        "acc_test = []\r\n",
        "for epoch in range(0,201):\r\n",
        "  model.train()\r\n",
        "  optimizer.zero_grad()\r\n",
        "  temp = []\r\n",
        "  for data in train_loader:                              # Iterate in batches over the training dataset.\r\n",
        "        data.to(device)\r\n",
        "        out = model(data.x, data.edge_index, data.batch)  # Perform a single forward pass.\r\n",
        "        loss = criterion(out, data.y)                     # Compute the loss.\r\n",
        "        loss.backward()                                   # Derive gradients.\r\n",
        "        optimizer.step()                                  # Update parameters based on gradients.\r\n",
        "        optimizer.zero_grad()                             # Clear gradients.\r\n",
        "        temp.append(loss)\r\n",
        "  \r\n",
        "  losses.append( sum(temp)/ len(temp))\r\n",
        "\r\n",
        "  model.eval()\r\n",
        "  correct = 0\r\n",
        "  \r\n",
        "  for data in test_loader:  # Iterate in batches over the training/test dataset.\r\n",
        "      data.to(device)\r\n",
        "      out = model(data.x, data.edge_index, data.batch)  \r\n",
        "      pred = out.argmax(dim=1)  # Use the class with highest probability.\r\n",
        "      correct += int((pred == data.y).sum())  # Check against ground-truth labels.\r\n",
        "  \r\n",
        "  acc = (correct / len(test_loader.dataset))  # Derive ratio of correct predictions.\r\n",
        "  acc_test.append(acc)\r\n",
        "\r\n",
        "  if epoch % 10 == 0:\r\n",
        "    print(f'Epoch: {epoch:03d}, Loss: {losses[epoch]:.4f}, Test Acc: {acc_test[epoch]:.4f}')\r\n",
        "\r\n",
        "\r\n",
        "\r\n",
        "        "
      ],
      "execution_count": 65,
      "outputs": [
        {
          "output_type": "stream",
          "text": [
            "Epoch: 000, Loss: 0.6616, Test Acc: 0.7368\n",
            "Epoch: 010, Loss: 0.5838, Test Acc: 0.7632\n",
            "Epoch: 020, Loss: 0.5430, Test Acc: 0.7368\n",
            "Epoch: 030, Loss: 0.5421, Test Acc: 0.7368\n",
            "Epoch: 040, Loss: 0.5537, Test Acc: 0.7368\n",
            "Epoch: 050, Loss: 0.5507, Test Acc: 0.7368\n",
            "Epoch: 060, Loss: 0.5639, Test Acc: 0.7632\n",
            "Epoch: 070, Loss: 0.5273, Test Acc: 0.7368\n",
            "Epoch: 080, Loss: 0.5722, Test Acc: 0.7368\n",
            "Epoch: 090, Loss: 0.5379, Test Acc: 0.7632\n",
            "Epoch: 100, Loss: 0.5276, Test Acc: 0.7895\n",
            "Epoch: 110, Loss: 0.5332, Test Acc: 0.8158\n",
            "Epoch: 120, Loss: 0.5170, Test Acc: 0.7105\n",
            "Epoch: 130, Loss: 0.5235, Test Acc: 0.7368\n",
            "Epoch: 140, Loss: 0.5174, Test Acc: 0.7368\n",
            "Epoch: 150, Loss: 0.5167, Test Acc: 0.7632\n",
            "Epoch: 160, Loss: 0.5132, Test Acc: 0.7895\n",
            "Epoch: 170, Loss: 0.5140, Test Acc: 0.7105\n",
            "Epoch: 180, Loss: 0.5132, Test Acc: 0.7895\n",
            "Epoch: 190, Loss: 0.5157, Test Acc: 0.7632\n",
            "Epoch: 200, Loss: 0.5095, Test Acc: 0.7368\n"
          ],
          "name": "stdout"
        }
      ]
    },
    {
      "cell_type": "code",
      "metadata": {
        "colab": {
          "base_uri": "https://localhost:8080/",
          "height": 339
        },
        "id": "UejvB38G2oU4",
        "outputId": "ca1710e7-b463-4730-d40a-89aa5a45d1dd"
      },
      "source": [
        "import seaborn as sns\r\n",
        "losses_float = [float(loss.cpu().detach().numpy()) for loss in losses] \r\n",
        "loss_indices = [i for i,l in enumerate(losses_float)] \r\n",
        "plt = sns.lineplot(loss_indices, losses_float)\r\n",
        "plt"
      ],
      "execution_count": 66,
      "outputs": [
        {
          "output_type": "stream",
          "text": [
            "/usr/local/lib/python3.6/dist-packages/seaborn/_decorators.py:43: FutureWarning: Pass the following variables as keyword args: x, y. From version 0.12, the only valid positional argument will be `data`, and passing other arguments without an explicit keyword will result in an error or misinterpretation.\n",
            "  FutureWarning\n"
          ],
          "name": "stderr"
        },
        {
          "output_type": "execute_result",
          "data": {
            "text/plain": [
              "<matplotlib.axes._subplots.AxesSubplot at 0x7f280a938a58>"
            ]
          },
          "metadata": {
            "tags": []
          },
          "execution_count": 66
        },
        {
          "output_type": "display_data",
          "data": {
            "image/png": "[encoded data removed]",
            "text/plain": [
              "<Figure size 432x288 with 1 Axes>"
            ]
          },
          "metadata": {
            "tags": [],
            "needs_background": "light"
          }
        }
      ]
    },
    {
      "cell_type": "code",
      "metadata": {
        "colab": {
          "base_uri": "https://localhost:8080/",
          "height": 618
        },
        "id": "LQP1RwOU7Jrr",
        "outputId": "b0c49c88-ae01-470b-ef18-551420700243"
      },
      "source": [
        "import pandas as pd \r\n",
        "\r\n",
        "# Analyze the results for one batch\r\n",
        "with torch.no_grad():\r\n",
        "    data.to(device)\r\n",
        "    pred = model(data.x, data.edge_index, data.batch)   \r\n",
        "    pred = out.argmax(dim=1)\r\n",
        "    df = pd.DataFrame()\r\n",
        "    df[\"y_real\"] = data.y.tolist()\r\n",
        "    df[\"y_pred\"] = pred.tolist()\r\n",
        "df"
      ],
      "execution_count": 67,
      "outputs": [
        {
          "output_type": "execute_result",
          "data": {
            "text/html": [
              "<div>\n",
              "<style scoped>\n",
              "    .dataframe tbody tr th:only-of-type {\n",
              "        vertical-align: middle;\n",
              "    }\n",
              "\n",
              "    .dataframe tbody tr th {\n",
              "        vertical-align: top;\n",
              "    }\n",
              "\n",
              "    .dataframe thead th {\n",
              "        text-align: right;\n",
              "    }\n",
              "</style>\n",
              "<table border=\"1\" class=\"dataframe\">\n",
              "  <thead>\n",
              "    <tr style=\"text-align: right;\">\n",
              "      <th></th>\n",
              "      <th>y_real</th>\n",
              "      <th>y_pred</th>\n",
              "    </tr>\n",
              "  </thead>\n",
              "  <tbody>\n",
              "    <tr>\n",
              "      <th>0</th>\n",
              "      <td>1</td>\n",
              "      <td>0</td>\n",
              "    </tr>\n",
              "    <tr>\n",
              "      <th>1</th>\n",
              "      <td>1</td>\n",
              "      <td>0</td>\n",
              "    </tr>\n",
              "    <tr>\n",
              "      <th>2</th>\n",
              "      <td>1</td>\n",
              "      <td>0</td>\n",
              "    </tr>\n",
              "    <tr>\n",
              "      <th>3</th>\n",
              "      <td>0</td>\n",
              "      <td>0</td>\n",
              "    </tr>\n",
              "    <tr>\n",
              "      <th>4</th>\n",
              "      <td>1</td>\n",
              "      <td>1</td>\n",
              "    </tr>\n",
              "    <tr>\n",
              "      <th>5</th>\n",
              "      <td>0</td>\n",
              "      <td>0</td>\n",
              "    </tr>\n",
              "    <tr>\n",
              "      <th>6</th>\n",
              "      <td>1</td>\n",
              "      <td>0</td>\n",
              "    </tr>\n",
              "    <tr>\n",
              "      <th>7</th>\n",
              "      <td>1</td>\n",
              "      <td>1</td>\n",
              "    </tr>\n",
              "    <tr>\n",
              "      <th>8</th>\n",
              "      <td>1</td>\n",
              "      <td>0</td>\n",
              "    </tr>\n",
              "    <tr>\n",
              "      <th>9</th>\n",
              "      <td>1</td>\n",
              "      <td>1</td>\n",
              "    </tr>\n",
              "    <tr>\n",
              "      <th>10</th>\n",
              "      <td>0</td>\n",
              "      <td>0</td>\n",
              "    </tr>\n",
              "    <tr>\n",
              "      <th>11</th>\n",
              "      <td>1</td>\n",
              "      <td>1</td>\n",
              "    </tr>\n",
              "    <tr>\n",
              "      <th>12</th>\n",
              "      <td>1</td>\n",
              "      <td>1</td>\n",
              "    </tr>\n",
              "    <tr>\n",
              "      <th>13</th>\n",
              "      <td>1</td>\n",
              "      <td>1</td>\n",
              "    </tr>\n",
              "    <tr>\n",
              "      <th>14</th>\n",
              "      <td>1</td>\n",
              "      <td>1</td>\n",
              "    </tr>\n",
              "    <tr>\n",
              "      <th>15</th>\n",
              "      <td>1</td>\n",
              "      <td>1</td>\n",
              "    </tr>\n",
              "    <tr>\n",
              "      <th>16</th>\n",
              "      <td>0</td>\n",
              "      <td>0</td>\n",
              "    </tr>\n",
              "    <tr>\n",
              "      <th>17</th>\n",
              "      <td>1</td>\n",
              "      <td>0</td>\n",
              "    </tr>\n",
              "    <tr>\n",
              "      <th>18</th>\n",
              "      <td>1</td>\n",
              "      <td>1</td>\n",
              "    </tr>\n",
              "  </tbody>\n",
              "</table>\n",
              "</div>"
            ],
            "text/plain": [
              "    y_real  y_pred\n",
              "0        1       0\n",
              "1        1       0\n",
              "2        1       0\n",
              "3        0       0\n",
              "4        1       1\n",
              "5        0       0\n",
              "6        1       0\n",
              "7        1       1\n",
              "8        1       0\n",
              "9        1       1\n",
              "10       0       0\n",
              "11       1       1\n",
              "12       1       1\n",
              "13       1       1\n",
              "14       1       1\n",
              "15       1       1\n",
              "16       0       0\n",
              "17       1       0\n",
              "18       1       1"
            ]
          },
          "metadata": {
            "tags": []
          },
          "execution_count": 67
        }
      ]
    },
    {
      "cell_type": "code",
      "metadata": {
        "colab": {
          "base_uri": "https://localhost:8080/"
        },
        "id": "w0W6ezK7HgFi",
        "outputId": "ab2fbbec-003a-4a9c-8dca-20a2243e38e6"
      },
      "source": [
        "# last test batch\r\n",
        "data"
      ],
      "execution_count": 68,
      "outputs": [
        {
          "output_type": "execute_result",
          "data": {
            "text/plain": [
              "Batch(batch=[341], edge_attr=[750, 4], edge_index=[2, 750], x=[341, 7], y=[19])"
            ]
          },
          "metadata": {
            "tags": []
          },
          "execution_count": 68
        }
      ]
    }
  ]
}